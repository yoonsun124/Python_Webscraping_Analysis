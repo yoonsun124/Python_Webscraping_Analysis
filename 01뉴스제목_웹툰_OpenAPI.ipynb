{
 "cells": [
  {
   "cell_type": "markdown",
   "id": "eb0bfa44",
   "metadata": {},
   "source": [
    "## 1. 뉴스제목 가져오기\n",
    "* user-agent 요청헤더를 반드시 설정해야 한다."
   ]
  },
  {
   "cell_type": "code",
   "execution_count": 1,
   "id": "f0d27781",
   "metadata": {},
   "outputs": [
    {
     "name": "stdout",
     "output_type": "stream",
     "text": [
      "Name: requests\n",
      "Version: 2.32.2\n",
      "Summary: Python HTTP for Humans.\n",
      "Home-page: https://requests.readthedocs.io\n",
      "Author: Kenneth Reitz\n",
      "Author-email: me@kennethreitz.org\n",
      "License: Apache-2.0\n",
      "Location: C:\\Users\\r2com\\anaconda3\\Lib\\site-packages\n",
      "Requires: certifi, charset-normalizer, idna, urllib3\n",
      "Required-by: anaconda-catalogs, anaconda-client, anaconda-cloud-auth, anaconda-project, conda, conda-build, conda-repo-cli, conda_package_streaming, cookiecutter, datashader, intake, jupyterlab_server, panel, requests-file, requests-toolbelt, Sphinx, streamlit, tldextract\n"
     ]
    }
   ],
   "source": [
    "!pip show requests"
   ]
  },
  {
   "cell_type": "code",
   "execution_count": 2,
   "id": "f7798ea8",
   "metadata": {},
   "outputs": [
    {
     "name": "stdout",
     "output_type": "stream",
     "text": [
      "Name: beautifulsoup4\n",
      "Version: 4.12.3\n",
      "Summary: Screen-scraping library\n",
      "Home-page: \n",
      "Author: \n",
      "Author-email: Leonard Richardson <leonardr@segfault.org>\n",
      "License: MIT License\n",
      "Location: C:\\Users\\r2com\\anaconda3\\Lib\\site-packages\n",
      "Requires: soupsieve\n",
      "Required-by: conda-build, nbconvert\n"
     ]
    }
   ],
   "source": [
    "!pip show beautifulsoup4"
   ]
  },
  {
   "cell_type": "code",
   "execution_count": 5,
   "id": "bf80a429",
   "metadata": {},
   "outputs": [],
   "source": [
    "import requests\n",
    "import bs4\n",
    "from bs4 import BeautifulSoup"
   ]
  },
  {
   "cell_type": "code",
   "execution_count": 6,
   "id": "9788d6ac",
   "metadata": {},
   "outputs": [
    {
     "name": "stdout",
     "output_type": "stream",
     "text": [
      "request ver 2.32.2\n",
      "beautifulsoup 4.12.3\n"
     ]
    }
   ],
   "source": [
    "print(f'request ver {requests.__version__}' )\n",
    "print('beautifulsoup {}'.format(bs4.__version__))"
   ]
  },
  {
   "cell_type": "markdown",
   "id": "ccb91def-cde3-4aeb-b0e5-2e7233500333",
   "metadata": {},
   "source": [
    "### 1. 뉴스 제목 추출하기"
   ]
  },
  {
   "cell_type": "code",
   "execution_count": 29,
   "id": "94c12fd6",
   "metadata": {},
   "outputs": [
    {
     "name": "stdout",
     "output_type": "stream",
     "text": [
      "https://news.naver.com/section/105\n",
      "<class 'requests.models.Response'>\n",
      "200\n",
      "True\n",
      "<class 'bs4.BeautifulSoup'>\n",
      "<class 'bs4.element.Tag'>\n",
      "<a class=\"sa_text_title _NLOG_IMPRESSION\" data-clk=\"itn.clart\" data-imp-gdid=\"880000BC_000000000000000005345535\" data-imp-index=\"1\" data-imp-url=\"https://n.news.naver.com/mnews/article/009/0005345535\" href=\"https://n.news.naver.com/mnews/article/009/0005345535\">\n",
      "<strong class=\"sa_text_strong\">이공계 대학원생, 내년부터 ‘한국형 스타이펜드’ 받는다</strong>\n",
      "</a>\n",
      "-------\n",
      "<class 'bs4.element.Tag'>\n",
      "<a class=\"sa_text_title _NLOG_IMPRESSION\" data-clk=\"itn.clart\" data-imp-gdid=\"880000D2_000000000000000003957028\" data-imp-index=\"2\" data-imp-url=\"https://n.news.naver.com/mnews/article/022/0003957028\" href=\"https://n.news.naver.com/mnews/article/022/0003957028\">\n",
      "<strong class=\"sa_text_strong\">‘투 트랙 전략’ 엔씨 “잘하던 것 잘하고, 새로운 것 더 잘하자”</strong>\n",
      "</a>\n",
      "-------\n",
      "<class 'bs4.element.Tag'>\n",
      "<a class=\"sa_text_title _NLOG_IMPRESSION\" data-clk=\"itn.clart\" data-imp-gdid=\"880000C4_000000000000000002652458\" data-imp-index=\"3\" data-imp-url=\"https://n.news.naver.com/mnews/article/021/0002652458\" href=\"https://n.news.naver.com/mnews/article/021/0002652458\">\n",
      "<strong class=\"sa_text_strong\">SK C&amp;C, 베트남 ‘FPT IS’와 MOU…디지털 ESG 서비스 공동개발 및 마케팅 협력</strong>\n",
      "</a>\n",
      "-------\n",
      "<class 'bs4.element.Tag'>\n",
      "<a class=\"sa_text_title _NLOG_IMPRESSION\" data-clk=\"itn.clart\" data-imp-gdid=\"88000106_000000000000000000078302\" data-imp-index=\"4\" data-imp-url=\"https://n.news.naver.com/mnews/article/050/0000078302\" href=\"https://n.news.naver.com/mnews/article/050/0000078302\">\n",
      "<strong class=\"sa_text_strong\">삼성전자의 ‘텃밭’ 공략...애플 아이폰 ‘파격’ 결정</strong>\n",
      "</a>\n",
      "-------\n",
      "<class 'bs4.element.Tag'>\n",
      "<a class=\"sa_text_title _NLOG_IMPRESSION\" data-clk=\"itn.clart\" data-imp-gdid=\"880000D6_000000000000000000859284\" data-imp-index=\"5\" data-imp-url=\"https://n.news.naver.com/mnews/article/031/0000859284\" href=\"https://n.news.naver.com/mnews/article/031/0000859284\">\n",
      "<strong class=\"sa_text_strong\"> 전기차 배터리 폭발→열폭주…신코팅법으로 억제한다[지금은 과학]</strong>\n",
      "</a>\n",
      "-------\n",
      "<class 'bs4.element.Tag'>\n",
      "<a class=\"sa_text_title _NLOG_IMPRESSION\" data-clk=\"itn.clart\" data-imp-gdid=\"88127058_000000000000000001009775\" data-imp-index=\"6\" data-imp-url=\"https://n.news.naver.com/mnews/article/366/0001009775\" href=\"https://n.news.naver.com/mnews/article/366/0001009775\">\n",
      "<strong class=\"sa_text_strong\">SK텔레콤, SIGIR 2024서 AI 추천 모델 알고리즘 ‘우수 논문상’ 수상</strong>\n",
      "</a>\n",
      "-------\n",
      "<class 'bs4.element.Tag'>\n",
      "<a class=\"sa_text_title _NLOG_IMPRESSION\" data-clk=\"itn.clart\" data-imp-gdid=\"880000AD_000000000000000002892726\" data-imp-index=\"7\" data-imp-url=\"https://n.news.naver.com/mnews/article/029/0002892726\" href=\"https://n.news.naver.com/mnews/article/029/0002892726\">\n",
      "<strong class=\"sa_text_strong\">제이엘케이, 뇌 관류 CT 영상 분석 솔루션 美 FDA 인허가 신청</strong>\n",
      "</a>\n",
      "-------\n",
      "<class 'bs4.element.Tag'>\n",
      "<a class=\"sa_text_title _NLOG_IMPRESSION\" data-clk=\"itn.clart\" data-imp-gdid=\"880000AC_000000000000000002179147\" data-imp-index=\"8\" data-imp-url=\"https://n.news.naver.com/mnews/article/138/0002179147\" href=\"https://n.news.naver.com/mnews/article/138/0002179147\">\n",
      "<strong class=\"sa_text_strong\">한국게임산업협회, ‘게임인식 개선 리터러시 교육 안내서’ 발간</strong>\n",
      "</a>\n",
      "-------\n",
      "<class 'bs4.element.Tag'>\n",
      "<a class=\"sa_text_title _NLOG_IMPRESSION\" data-clk=\"airscont\" data-extra='{\"airs\":{\"model_version\":\"news_sec_v2.0\",\"session_id\":\"qMiAdpKZb0gHModq\"}}' data-gdid=\"88127058_000000000000000001009933\" data-imp-url=\"https://n.news.naver.com/mnews/article/366/0001009933\" data-rank=\"1\" href=\"https://n.news.naver.com/mnews/article/366/0001009933\">\n",
      "<strong class=\"sa_text_strong\">[단독] 찜통더위 부른 북태평양 고기압…한중일 손잡고 예측 정확성 높인다</strong>\n",
      "</a>\n",
      "-------\n",
      "<class 'bs4.element.Tag'>\n",
      "<a class=\"sa_text_title _NLOG_IMPRESSION\" data-clk=\"airscont\" data-extra='{\"airs\":{\"model_version\":\"news_sec_v2.0\",\"session_id\":\"qMiAdpKZb0gHModq\"}}' data-gdid=\"880000E7_000000000000000005805497\" data-imp-url=\"https://n.news.naver.com/mnews/article/018/0005805497\" data-rank=\"2\" href=\"https://n.news.naver.com/mnews/article/018/0005805497\">\n",
      "<strong class=\"sa_text_strong\">곤두박질치는 비트코인…'트럼프 약발' 보단 'R의 공포'</strong>\n",
      "</a>\n",
      "-------\n",
      "<class 'bs4.element.Tag'>\n",
      "<a class=\"sa_text_title _NLOG_IMPRESSION\" data-clk=\"airscont\" data-extra='{\"airs\":{\"model_version\":\"news_sec_v2.0\",\"session_id\":\"qMiAdpKZb0gHModq\"}}' data-gdid=\"88000127_000000000000000012710549\" data-imp-url=\"https://n.news.naver.com/mnews/article/003/0012710549\" data-rank=\"3\" href=\"https://n.news.naver.com/mnews/article/003/0012710549\">\n",
      "<strong class=\"sa_text_strong\">이통3사 2분기 합산 영업익 예상 1.3조…전환지원금 타격 적었다</strong>\n",
      "</a>\n",
      "-------\n",
      "<class 'bs4.element.Tag'>\n",
      "<a class=\"sa_text_title _NLOG_IMPRESSION\" data-clk=\"airscont\" data-extra='{\"airs\":{\"model_version\":\"news_sec_v2.0\",\"session_id\":\"qMiAdpKZb0gHModq\"}}' data-gdid=\"8817ca11_000000000000000000028179\" data-imp-url=\"https://n.news.naver.com/mnews/article/584/0000028179\" data-rank=\"4\" href=\"https://n.news.naver.com/mnews/article/584/0000028179\">\n",
      "<strong class=\"sa_text_strong\">배터리 화재 키우는 '열폭주' 억제 방법 찾았다</strong>\n",
      "</a>\n",
      "-------\n",
      "<class 'bs4.element.Tag'>\n",
      "<a class=\"sa_text_title _NLOG_IMPRESSION\" data-clk=\"airscont\" data-extra='{\"airs\":{\"model_version\":\"news_sec_v2.0\",\"session_id\":\"qMiAdpKZb0gHModq\"}}' data-gdid=\"880000FF_000000000000000005223409\" data-imp-url=\"https://n.news.naver.com/mnews/article/014/0005223409\" data-rank=\"5\" href=\"https://n.news.naver.com/mnews/article/014/0005223409\">\n",
      "<strong class=\"sa_text_strong\">티빙, 토종 OTT 1위 굳히기.. 쿠플, EPL로 만회 나선다</strong>\n",
      "</a>\n",
      "-------\n",
      "<class 'bs4.element.Tag'>\n",
      "<a class=\"sa_text_title _NLOG_IMPRESSION\" data-clk=\"airscont\" data-extra='{\"airs\":{\"model_version\":\"news_sec_v2.0\",\"session_id\":\"qMiAdpKZb0gHModq\"}}' data-gdid=\"8800011E_000000000000000002340926\" data-imp-url=\"https://n.news.naver.com/mnews/article/092/0002340926\" data-rank=\"6\" href=\"https://n.news.naver.com/mnews/article/092/0002340926\">\n",
      "<strong class=\"sa_text_strong\">M7 주가폭락에 실망한 투자자…\"인내심 한계 달했다\"</strong>\n",
      "</a>\n",
      "-------\n",
      "<class 'bs4.element.Tag'>\n",
      "<a class=\"sa_text_title _NLOG_IMPRESSION\" data-clk=\"airscont\" data-extra='{\"airs\":{\"model_version\":\"news_sec_v2.0\",\"session_id\":\"qMiAdpKZb0gHModq\"}}' data-gdid=\"880000AC_000000000000000002179208\" data-imp-url=\"https://n.news.naver.com/mnews/article/138/0002179208\" data-rank=\"7\" href=\"https://n.news.naver.com/mnews/article/138/0002179208\">\n",
      "<strong class=\"sa_text_strong\">유라클, 수요예측 경쟁률 1065.8대 1…공모가 2만1000원 확정</strong>\n",
      "</a>\n",
      "-------\n",
      "<class 'bs4.element.Tag'>\n",
      "<a class=\"sa_text_title _NLOG_IMPRESSION\" data-clk=\"airscont\" data-extra='{\"airs\":{\"model_version\":\"news_sec_v2.0\",\"session_id\":\"qMiAdpKZb0gHModq\"}}' data-gdid=\"880000E7_000000000000000005805482\" data-imp-url=\"https://n.news.naver.com/mnews/article/018/0005805482\" data-rank=\"8\" href=\"https://n.news.naver.com/mnews/article/018/0005805482\">\n",
      "<strong class=\"sa_text_strong\">\"뭘로 결제했더라\"…티메프 환불, 페이·카드 희비 엇갈린다</strong>\n",
      "</a>\n",
      "-------\n",
      "<class 'bs4.element.Tag'>\n",
      "<a class=\"sa_text_title _NLOG_IMPRESSION\" data-clk=\"airscont\" data-extra='{\"airs\":{\"model_version\":\"news_sec_v2.0\",\"session_id\":\"qMiAdpKZb0gHModq\"}}' data-gdid=\"88000127_000000000000000012710504\" data-imp-url=\"https://n.news.naver.com/mnews/article/003/0012710504\" data-rank=\"9\" href=\"https://n.news.naver.com/mnews/article/003/0012710504\">\n",
      "<strong class=\"sa_text_strong\">엔씨, 빅게임스튜디오 370억 규모 지분·판권 투자</strong>\n",
      "</a>\n",
      "-------\n",
      "<class 'bs4.element.Tag'>\n",
      "<a class=\"sa_text_title _NLOG_IMPRESSION\" data-clk=\"airscont\" data-extra='{\"airs\":{\"model_version\":\"news_sec_v2.0\",\"session_id\":\"qMiAdpKZb0gHModq\"}}' data-gdid=\"88000107_000000000000000005018184\" data-imp-url=\"https://n.news.naver.com/mnews/article/015/0005018184\" data-rank=\"10\" href=\"https://n.news.naver.com/mnews/article/015/0005018184\">\n",
      "<strong class=\"sa_text_strong\">아이폰, 이제야 한국 대우하나…신작 '1차 출시국' 포함된다</strong>\n",
      "</a>\n",
      "-------\n",
      "<class 'bs4.element.Tag'>\n",
      "<a class=\"sa_text_title _NLOG_IMPRESSION\" data-clk=\"airscont\" data-extra='{\"airs\":{\"model_version\":\"news_sec_v2.0\",\"session_id\":\"qMiAdpKZb0gHModq\"}}' data-gdid=\"8800011E_000000000000000002340921\" data-imp-url=\"https://n.news.naver.com/mnews/article/092/0002340921\" data-rank=\"11\" href=\"https://n.news.naver.com/mnews/article/092/0002340921\">\n",
      "<strong class=\"sa_text_strong\">혼돈의 방송통신위원회와 ‘애국자가 없는 세상’</strong>\n",
      "</a>\n",
      "-------\n",
      "<class 'bs4.element.Tag'>\n",
      "<a class=\"sa_text_title _NLOG_IMPRESSION\" data-clk=\"airscont\" data-extra='{\"airs\":{\"model_version\":\"news_sec_v2.0\",\"session_id\":\"qMiAdpKZb0gHModq\"}}' data-gdid=\"880000AC_000000000000000002179205\" data-imp-url=\"https://n.news.naver.com/mnews/article/138/0002179205\" data-rank=\"12\" href=\"https://n.news.naver.com/mnews/article/138/0002179205\">\n",
      "<strong class=\"sa_text_strong\">청라 화재서 촉발된 '中 배터리 포비아'…韓 3사 대체 가능성은 [소부장박대리]</strong>\n",
      "</a>\n",
      "-------\n",
      "<class 'bs4.element.Tag'>\n",
      "<a class=\"sa_text_title _NLOG_IMPRESSION\" data-clk=\"airscont\" data-extra='{\"airs\":{\"model_version\":\"news_sec_v2.0\",\"session_id\":\"qMiAdpKZb0gHModq\"}}' data-gdid=\"08138263_000000000000000007710891\" data-imp-url=\"https://n.news.naver.com/mnews/article/421/0007710891\" data-rank=\"13\" href=\"https://n.news.naver.com/mnews/article/421/0007710891\">\n",
      "<strong class=\"sa_text_strong\">말라리아·일본뇌염 모기 2배 넘게 급증…가장 확실한 예방법은</strong>\n",
      "</a>\n",
      "-------\n",
      "<class 'bs4.element.Tag'>\n",
      "<a class=\"sa_text_title _NLOG_IMPRESSION\" data-clk=\"airscont\" data-extra='{\"airs\":{\"model_version\":\"news_sec_v2.0\",\"session_id\":\"qMiAdpKZb0gHModq\"}}' data-gdid=\"8800010E_000000000000000002345560\" data-imp-url=\"https://n.news.naver.com/mnews/article/016/0002345560\" data-rank=\"14\" href=\"https://n.news.naver.com/mnews/article/016/0002345560\">\n",
      "<strong class=\"sa_text_strong\">“편의점 알바보다 열악한 처우” 이공계 석박사…연구생활장려금 지급, 숨통 트일까</strong>\n",
      "</a>\n",
      "-------\n",
      "<class 'bs4.element.Tag'>\n",
      "<a class=\"sa_text_title _NLOG_IMPRESSION\" data-clk=\"airscont\" data-extra='{\"airs\":{\"model_version\":\"news_sec_v2.0\",\"session_id\":\"qMiAdpKZb0gHModq\"}}' data-gdid=\"88127058_000000000000000001009912\" data-imp-url=\"https://n.news.naver.com/mnews/article/366/0001009912\" data-rank=\"15\" href=\"https://n.news.naver.com/mnews/article/366/0001009912\">\n",
      "<strong class=\"sa_text_strong\">전기차 배터리 열폭주 막을 방법 찾았다</strong>\n",
      "</a>\n",
      "-------\n",
      "<class 'bs4.element.Tag'>\n",
      "<a class=\"sa_text_title _NLOG_IMPRESSION\" data-clk=\"airscont\" data-extra='{\"airs\":{\"model_version\":\"news_sec_v2.0\",\"session_id\":\"qMiAdpKZb0gHModq\"}}' data-gdid=\"880000D8_000000000000000014855246\" data-imp-url=\"https://n.news.naver.com/mnews/article/001/0014855246\" data-rank=\"16\" href=\"https://n.news.naver.com/mnews/article/001/0014855246\">\n",
      "<strong class=\"sa_text_strong\">이공계 대학원생에 매달 80~110만원 지급…연구비 관리제도 개선</strong>\n",
      "</a>\n",
      "-------\n",
      "<class 'bs4.element.Tag'>\n",
      "<a class=\"sa_text_title _NLOG_IMPRESSION\" data-clk=\"airscont\" data-extra='{\"airs\":{\"model_version\":\"news_sec_v2.0\",\"session_id\":\"qMiAdpKZb0gHModq\"}}' data-gdid=\"8800011E_000000000000000002340919\" data-imp-url=\"https://n.news.naver.com/mnews/article/092/0002340919\" data-rank=\"17\" href=\"https://n.news.naver.com/mnews/article/092/0002340919\">\n",
      "<strong class=\"sa_text_strong\">全 종목 '금메달' 석권 양궁…정의선 회장 40년 함께했다</strong>\n",
      "</a>\n",
      "-------\n",
      "<class 'bs4.element.Tag'>\n",
      "<a class=\"sa_text_title _NLOG_IMPRESSION\" data-clk=\"airscont\" data-extra='{\"airs\":{\"model_version\":\"news_sec_v2.0\",\"session_id\":\"qMiAdpKZb0gHModq\"}}' data-gdid=\"880000C2_000000000000000005073035\" data-imp-url=\"https://n.news.naver.com/mnews/article/008/0005073035\" data-rank=\"18\" href=\"https://n.news.naver.com/mnews/article/008/0005073035\">\n",
      "<strong class=\"sa_text_strong\">\"언제까지 이렇게 덥나\"…기상청 대신 인기 폭발한 날씨앱</strong>\n",
      "</a>\n",
      "-------\n",
      "<class 'bs4.element.Tag'>\n",
      "<a class=\"sa_text_title _NLOG_IMPRESSION\" data-clk=\"airscont\" data-extra='{\"airs\":{\"model_version\":\"news_sec_v2.0\",\"session_id\":\"qMiAdpKZb0gHModq\"}}' data-gdid=\"88000108_000000000000000004376131\" data-imp-url=\"https://n.news.naver.com/mnews/article/011/0004376131\" data-rank=\"19\" href=\"https://n.news.naver.com/mnews/article/011/0004376131\">\n",
      "<strong class=\"sa_text_strong\">美, 자율주행차에 중국산 SW·통신모듈 탑재 금지 추진</strong>\n",
      "</a>\n",
      "-------\n",
      "<class 'bs4.element.Tag'>\n",
      "<a class=\"sa_text_title _NLOG_IMPRESSION\" data-clk=\"airscont\" data-extra='{\"airs\":{\"model_version\":\"news_sec_v2.0\",\"session_id\":\"qMiAdpKZb0gHModq\"}}' data-gdid=\"880000C2_000000000000000005073031\" data-imp-url=\"https://n.news.naver.com/mnews/article/008/0005073031\" data-rank=\"20\" href=\"https://n.news.naver.com/mnews/article/008/0005073031\">\n",
      "<strong class=\"sa_text_strong\">韓 해킹한 자료로 공장·지방개발 하려는 北... 北해커들 이곳 노린다</strong>\n",
      "</a>\n",
      "-------\n",
      "<class 'bs4.element.Tag'>\n",
      "<a class=\"sa_text_title _NLOG_IMPRESSION\" data-clk=\"airscont\" data-extra='{\"airs\":{\"model_version\":\"news_sec_v2.0\",\"session_id\":\"qMiAdpKZb0gHModq\"}}' data-gdid=\"880000E7_000000000000000005805447\" data-imp-url=\"https://n.news.naver.com/mnews/article/018/0005805447\" data-rank=\"21\" href=\"https://n.news.naver.com/mnews/article/018/0005805447\">\n",
      "<strong class=\"sa_text_strong\">코오롱바이오텍, 골관절염 치료제 ‘TG-C’ 대량 생산 공정 개발</strong>\n",
      "</a>\n",
      "-------\n",
      "<class 'bs4.element.Tag'>\n",
      "<a class=\"sa_text_title _NLOG_IMPRESSION\" data-clk=\"airscont\" data-extra='{\"airs\":{\"model_version\":\"news_sec_v2.0\",\"session_id\":\"qMiAdpKZb0gHModq\"}}' data-gdid=\"88127058_000000000000000001009904\" data-imp-url=\"https://n.news.naver.com/mnews/article/366/0001009904\" data-rank=\"22\" href=\"https://n.news.naver.com/mnews/article/366/0001009904\">\n",
      "<strong class=\"sa_text_strong\">“스마트폰 시장 3년 만에 성장세...삼성, 애플과 격차 벌릴 것”</strong>\n",
      "</a>\n",
      "-------\n",
      "<class 'bs4.element.Tag'>\n",
      "<a class=\"sa_text_title _NLOG_IMPRESSION\" data-clk=\"airscont\" data-extra='{\"airs\":{\"model_version\":\"news_sec_v2.0\",\"session_id\":\"qMiAdpKZb0gHModq\"}}' data-gdid=\"8800011E_000000000000000002340918\" data-imp-url=\"https://n.news.naver.com/mnews/article/092/0002340918\" data-rank=\"23\" href=\"https://n.news.naver.com/mnews/article/092/0002340918\">\n",
      "<strong class=\"sa_text_strong\">[제약바이오] 종근당, 바르는 소염진통제 케펨겔 출시 外</strong>\n",
      "</a>\n",
      "-------\n",
      "<class 'bs4.element.Tag'>\n",
      "<a class=\"sa_text_title _NLOG_IMPRESSION\" data-clk=\"airscont\" data-extra='{\"airs\":{\"model_version\":\"news_sec_v2.0\",\"session_id\":\"qMiAdpKZb0gHModq\"}}' data-gdid=\"880000FF_000000000000000005223355\" data-imp-url=\"https://n.news.naver.com/mnews/article/014/0005223355\" data-rank=\"24\" href=\"https://n.news.naver.com/mnews/article/014/0005223355\">\n",
      "<strong class=\"sa_text_strong\"> '아마란스10' 200% 늘어난 더존비즈온, 하반기도 맑음</strong>\n",
      "</a>\n",
      "-------\n",
      "<class 'bs4.element.Tag'>\n",
      "<a class=\"sa_text_title _NLOG_IMPRESSION\" data-clk=\"airscont\" data-extra='{\"airs\":{\"model_version\":\"news_sec_v2.0\",\"session_id\":\"qMiAdpKZb0gHModq\"}}' data-gdid=\"88213rx9_000000000000000000027909\" data-imp-url=\"https://n.news.naver.com/mnews/article/648/0000027909\" data-rank=\"25\" href=\"https://n.news.naver.com/mnews/article/648/0000027909\">\n",
      "<strong class=\"sa_text_strong\">더존비즈온, 매출·영업이익 '쑥쑥'…\"핵심사업 고른 성장\"</strong>\n",
      "</a>\n",
      "-------\n",
      "<class 'bs4.element.Tag'>\n",
      "<a class=\"sa_text_title _NLOG_IMPRESSION\" data-clk=\"airscont\" data-extra='{\"airs\":{\"model_version\":\"news_sec_v2.0\",\"session_id\":\"qMiAdpKZb0gHModq\"}}' data-gdid=\"88127058_000000000000000001009897\" data-imp-url=\"https://n.news.naver.com/mnews/article/366/0001009897\" data-rank=\"26\" href=\"https://n.news.naver.com/mnews/article/366/0001009897\">\n",
      "<strong class=\"sa_text_strong\">애플, 버터플라이 키보드 집단소송 美 소비자에 보상금</strong>\n",
      "</a>\n",
      "-------\n",
      "<class 'bs4.element.Tag'>\n",
      "<a class=\"sa_text_title _NLOG_IMPRESSION\" data-clk=\"airscont\" data-extra='{\"airs\":{\"model_version\":\"news_sec_v2.0\",\"session_id\":\"qMiAdpKZb0gHModq\"}}' data-gdid=\"880000D1_000000000000000003470020\" data-imp-url=\"https://n.news.naver.com/mnews/article/081/0003470020\" data-rank=\"27\" href=\"https://n.news.naver.com/mnews/article/081/0003470020\">\n",
      "<strong class=\"sa_text_strong\">‘살 파먹는 세균’ 잡는 약물 개발 [달콤한 사이언스]</strong>\n",
      "</a>\n",
      "-------\n",
      "<class 'bs4.element.Tag'>\n",
      "<a class=\"sa_text_title _NLOG_IMPRESSION\" data-clk=\"airscont\" data-extra='{\"airs\":{\"model_version\":\"news_sec_v2.0\",\"session_id\":\"qMiAdpKZb0gHModq\"}}' data-gdid=\"88000114_000000000000000011775233\" data-imp-url=\"https://n.news.naver.com/mnews/article/056/0011775233\" data-rank=\"28\" href=\"https://n.news.naver.com/mnews/article/056/0011775233\">\n",
      "<strong class=\"sa_text_strong\">“이공계 석·박사 월 80~110만 원”…‘한국형 스타이펜드’ 윤곽 나왔다</strong>\n",
      "</a>\n",
      "-------\n",
      "<class 'bs4.element.Tag'>\n",
      "<a class=\"sa_text_title _NLOG_IMPRESSION\" data-clk=\"airscont\" data-extra='{\"airs\":{\"model_version\":\"news_sec_v2.0\",\"session_id\":\"qMiAdpKZb0gHModq\"}}' data-gdid=\"880000A9_000000000000000003580328\" data-imp-url=\"https://n.news.naver.com/mnews/article/020/0003580328\" data-rank=\"29\" href=\"https://n.news.naver.com/mnews/article/020/0003580328\">\n",
      "<strong class=\"sa_text_strong\">자체 개발 SQL로 승부하는 '스마트마인드' [과기대X글로벌]</strong>\n",
      "</a>\n",
      "-------\n",
      "<class 'bs4.element.Tag'>\n",
      "<a class=\"sa_text_title _NLOG_IMPRESSION\" data-clk=\"airscont\" data-extra='{\"airs\":{\"model_version\":\"news_sec_v2.0\",\"session_id\":\"qMiAdpKZb0gHModq\"}}' data-gdid=\"8800011E_000000000000000002340917\" data-imp-url=\"https://n.news.naver.com/mnews/article/092/0002340917\" data-rank=\"30\" href=\"https://n.news.naver.com/mnews/article/092/0002340917\">\n",
      "<strong class=\"sa_text_strong\">\"애플, 9월엔 인텔리전스 없이 아이폰16만 나온다\"</strong>\n",
      "</a>\n",
      "-------\n",
      "<class 'bs4.element.Tag'>\n",
      "<a class=\"sa_text_title _NLOG_IMPRESSION\" data-clk=\"airscont\" data-extra='{\"airs\":{\"model_version\":\"news_sec_v2.0\",\"session_id\":\"qMiAdpKZb0gHModq\"}}' data-gdid=\"880000EA_000000000000000003229129\" data-imp-url=\"https://n.news.naver.com/mnews/article/030/0003229129\" data-rank=\"31\" href=\"https://n.news.naver.com/mnews/article/030/0003229129\">\n",
      "<strong class=\"sa_text_strong\">“아이폰 = 구형폰”…구글, AI폰 없는 애플 '저격'</strong>\n",
      "</a>\n",
      "-------\n",
      "<class 'bs4.element.Tag'>\n",
      "<a class=\"sa_text_title _NLOG_IMPRESSION\" data-clk=\"airscont\" data-extra='{\"airs\":{\"model_version\":\"news_sec_v2.0\",\"session_id\":\"qMiAdpKZb0gHModq\"}}' data-gdid=\"880000EA_000000000000000003229128\" data-imp-url=\"https://n.news.naver.com/mnews/article/030/0003229128\" data-rank=\"32\" href=\"https://n.news.naver.com/mnews/article/030/0003229128\">\n",
      "<strong class=\"sa_text_strong\">CATL, UAM 기체 제조사에 투자…차세대 배터리 각축전</strong>\n",
      "</a>\n",
      "-------\n",
      "<class 'bs4.element.Tag'>\n",
      "<a class=\"sa_text_title _NLOG_IMPRESSION\" data-clk=\"airscont\" data-extra='{\"airs\":{\"model_version\":\"news_sec_v2.0\",\"session_id\":\"qMiAdpKZb0gHModq\"}}' data-gdid=\"880000EA_000000000000000003229114\" data-imp-url=\"https://n.news.naver.com/mnews/article/030/0003229114\" data-rank=\"33\" href=\"https://n.news.naver.com/mnews/article/030/0003229114\">\n",
      "<strong class=\"sa_text_strong\">방통위 수술론 고개…해체 분리냐 보완 개편이냐</strong>\n",
      "</a>\n",
      "-------\n",
      "<class 'bs4.element.Tag'>\n",
      "<a class=\"sa_text_title _NLOG_IMPRESSION\" data-clk=\"airscont\" data-extra='{\"airs\":{\"model_version\":\"news_sec_v2.0\",\"session_id\":\"qMiAdpKZb0gHModq\"}}' data-gdid=\"880000D1_000000000000000003470009\" data-imp-url=\"https://n.news.naver.com/mnews/article/081/0003470009\" data-rank=\"34\" href=\"https://n.news.naver.com/mnews/article/081/0003470009\">\n",
      "<strong class=\"sa_text_strong\">“나 안죽었다”…제자리서 빙빙도는 ‘세계서 가장 큰 빙산’의 운명 [핵잼 사이언스]</strong>\n",
      "</a>\n",
      "-------\n",
      "<class 'bs4.element.Tag'>\n",
      "<a class=\"sa_text_title _NLOG_IMPRESSION\" data-clk=\"airscont\" data-extra='{\"airs\":{\"model_version\":\"news_sec_v2.0\",\"session_id\":\"qMiAdpKZb0gHModq\"}}' data-gdid=\"880000AC_000000000000000002179191\" data-imp-url=\"https://n.news.naver.com/mnews/article/138/0002179191\" data-rank=\"35\" href=\"https://n.news.naver.com/mnews/article/138/0002179191\">\n",
      "<strong class=\"sa_text_strong\">[DD's톡] 美 나스닥 입성 한 달…8일 실적 발표 앞둔 네이버웹툰</strong>\n",
      "</a>\n",
      "-------\n",
      "<class 'bs4.element.Tag'>\n",
      "<a class=\"sa_text_title _NLOG_IMPRESSION\" data-clk=\"airscont\" data-extra='{\"airs\":{\"model_version\":\"news_sec_v2.0\",\"session_id\":\"qMiAdpKZb0gHModq\"}}' data-gdid=\"88127058_000000000000000001009885\" data-imp-url=\"https://n.news.naver.com/mnews/article/366/0001009885\" data-rank=\"36\" href=\"https://n.news.naver.com/mnews/article/366/0001009885\">\n",
      "<strong class=\"sa_text_strong\">엑소좀 치료제 임상 앞당길 새로운 분석법 나와</strong>\n",
      "</a>\n",
      "-------\n"
     ]
    }
   ],
   "source": [
    "# IT/과학 뉴스\n",
    "req_param = {\n",
    "    'sid' : 105\n",
    "}\n",
    "url = 'https://news.naver.com/section/{sid}'.format(**req_param)\n",
    "print(url)\n",
    "# 요청 헤더 설정 : 브라우저 정보\n",
    "req_header = {\n",
    "    'user-agent': 'Mozilla/5.0 (Windows NT 10.0; Win64; x64) AppleWebKit/537.36 (KHTML, like Gecko) Chrome/104.0.0.0 Safari/537.36'\n",
    "}\n",
    "#requests 모듈을 사용해서 http 통신\n",
    "res = requests.get(url, headers=req_header)\n",
    "print(type(res))\n",
    "print(res.status_code)\n",
    "print(res.ok)\n",
    "if res.ok:\n",
    "    html = res.text\n",
    "    #parsing을 하기 위해 BeautifulSoup 객체 생성\n",
    "    soup = BeautifulSoup(html, \"html.parser\")\n",
    "    print(type(soup))\n",
    "    #print(len(soup.select(\"div.sa_text a[href*='https://n.news.naver.com/mnews/article']\")))\n",
    "    #print(len(soup.select(\"div.sa_text a.sa_text_title\")))\n",
    "    atag_list = soup.select(\"div.sa_text a.sa_text_title\")\n",
    "    #print(type(atag_list))\n",
    "    for atag in atag_list:\n",
    "        "
   ]
  },
  {
   "cell_type": "code",
   "execution_count": 6,
   "id": "4461b9cc",
   "metadata": {},
   "outputs": [],
   "source": [
    "section_dict = {100:'정치',101:'경제',102:'사회',103:'생활/문화',104:'세계',105:'IT/과학'}"
   ]
  },
  {
   "cell_type": "markdown",
   "id": "45640860-a449-4285-90d7-5f300292b461",
   "metadata": {},
   "source": [
    "### 1.1 뉴스제목 추출하는 함수 선언하기"
   ]
  },
  {
   "cell_type": "code",
   "execution_count": 13,
   "id": "9f2e4ef8",
   "metadata": {},
   "outputs": [],
   "source": [
    "import requests\n",
    "from bs4 import BeautifulSoup\n",
    "\n",
    "def print_news(sid, section):    \n",
    "    # 요청 Parameter\n",
    "    req_param = {\n",
    "    'sid': sid\n",
    "    }\n",
    "    url = 'https://news.naver.com/section/{sid}'.format(**req_param)\n",
    "    \n",
    "    print(f'======> {url} {section} 뉴스 <======')\n",
    "    \n",
    "    # 요청 헤더 설정 : 브라우저 정보\n",
    "    req_header = {\n",
    "        'user-agent': 'Mozilla/5.0 (Windows NT 10.0; Win64; x64) AppleWebKit/537.36 (KHTML, like Gecko) Chrome/104.0.0.0 Safari/537.36'\n",
    "    }\n",
    "    "
   ]
  },
  {
   "cell_type": "code",
   "execution_count": 14,
   "id": "858952c6",
   "metadata": {},
   "outputs": [
    {
     "name": "stdout",
     "output_type": "stream",
     "text": [
      "======> https://news.naver.com/section/103 생활/문화 뉴스 <======\n"
     ]
    }
   ],
   "source": [
    "print_news(103,section_dict[103])"
   ]
  },
  {
   "cell_type": "markdown",
   "id": "323196dc",
   "metadata": {},
   "source": [
    "### 2. Image 다운로드\n",
    "* referer 요청 헤더를 반드시 설정해야 한다."
   ]
  },
  {
   "cell_type": "code",
   "execution_count": 15,
   "id": "c72d6cb1",
   "metadata": {},
   "outputs": [],
   "source": [
    "import requests\n",
    "import os\n",
    "\n",
    "req_header = {\n",
    "    'referer':'https://comic.naver.com/webtoon/detail?titleId=798173&no=5&amp;weekday=thu'\n",
    "}\n",
    "img_urls = [\n",
    "    'https://image-comic.pstatic.net/webtoon/798173/5/20220804112251_d97bd1e1b38f0cd022e4e3639d2926b3_IMAG01_1.jpg',\n",
    "    'https://image-comic.pstatic.net/webtoon/798173/5/20220804112251_d97bd1e1b38f0cd022e4e3639d2926b3_IMAG01_2.jpg',\n",
    "    'https://image-comic.pstatic.net/webtoon/798173/5/20220804112251_d97bd1e1b38f0cd022e4e3639d2926b3_IMAG01_3.jpg'\n",
    "]\n",
    "\n"
   ]
  },
  {
   "cell_type": "markdown",
   "id": "e8b00a04",
   "metadata": {},
   "source": [
    "* 현재 요청된 페이지의 image 모두 다운로드 해보기"
   ]
  },
  {
   "cell_type": "code",
   "execution_count": 16,
   "id": "b30f7bf5",
   "metadata": {},
   "outputs": [],
   "source": [
    "import requests\n",
    "import os\n",
    "\n",
    "url = 'https://comic.naver.com/webtoon/detail?titleId=817945&no=37&week=mon'\n",
    "req_header = {\n",
    "    'referer': url\n",
    "}\n",
    "res = requests.get(url)\n",
    "if res.ok: #200\n",
    "    pass\n",
    "else:\n",
    "    print(res.status_code)"
   ]
  },
  {
   "cell_type": "markdown",
   "id": "2ac9f5f9",
   "metadata": {},
   "source": [
    "### 3. 파일 업로드 하기\n",
    "* http://httpbin.org/post 업로드 요청을 할 수 있는 url"
   ]
  },
  {
   "cell_type": "code",
   "execution_count": 17,
   "id": "04da4790",
   "metadata": {},
   "outputs": [],
   "source": []
  },
  {
   "cell_type": "markdown",
   "id": "7ad65f12",
   "metadata": {},
   "source": [
    "### 4. 단축 URL 생성하는 Open API 사용하기\n",
    "* urllib 사용"
   ]
  },
  {
   "cell_type": "code",
   "execution_count": null,
   "id": "abbb0ebf",
   "metadata": {},
   "outputs": [],
   "source": [
    "import os\n",
    "import sys\n",
    "import urllib.request\n",
    "\n",
    "client_id = \"V\" # 개발자센터에서 발급받은 Client ID 값\n",
    "client_secret = \"y_\" # 개발자센터에서 발급받은 Client Secret 값\n",
    "encText = urllib.parse.quote(\"https://drive.google.com/drive/u/0/folders/1V_DK7Px5w_niEKLlWhDr_GPgIYHG3Du-\")\n",
    "data = \"url=\" + encText\n",
    "url = \"https://openapi.naver.com/v1/util/shorturl\"\n",
    "\n",
    "request = urllib.request.Request(url)\n",
    "request.add_header(\"X-Naver-Client-Id\",client_id)\n",
    "request.add_header(\"X-Naver-Client-Secret\",client_secret)\n",
    "\n",
    "response = urllib.request.urlopen(request, data=data.encode(\"utf-8\"))\n",
    "rescode = response.getcode()\n",
    "if(rescode==200):\n",
    "    response_body = response.read()\n",
    "    print(response_body.decode('utf-8'))\n",
    "else:\n",
    "    print(\"Error Code:\" + rescode)\n"
   ]
  },
  {
   "cell_type": "markdown",
   "id": "b7d984a6",
   "metadata": {},
   "source": [
    "* requests를 사용하는 코드로 변경하기\n",
    "* [requests docs](https://requests.readthedocs.io/en/latest/user/quickstart/)"
   ]
  },
  {
   "cell_type": "code",
   "execution_count": null,
   "id": "727b427b",
   "metadata": {
    "scrolled": true
   },
   "outputs": [],
   "source": [
    "import requests\n",
    "\n",
    "client_id = \"V\" # 개발자센터에서 발급받은 Client ID 값\n",
    "client_secret = \"y_\" # 개발자센터에서 발급받은 Client Secret 값\n",
    "\n",
    "origin_url = \"https://drive.google.com/drive/u/0/folders/1V_DK7Px5w_niEKLlWhDr_GPgIYHG3Du-\"\n",
    "\n"
   ]
  },
  {
   "cell_type": "markdown",
   "id": "d5e1179a",
   "metadata": {},
   "source": [
    "### 5. 블로그 검색하기"
   ]
  },
  {
   "cell_type": "code",
   "execution_count": null,
   "id": "877d0c7f",
   "metadata": {},
   "outputs": [],
   "source": [
    "import requests\n",
    "import pprint\n",
    "\n",
    "headers = {\n",
    "    'X-Naver-Client-Id': 'V',\n",
    "    'X-Naver-Client-Secret': 'y_',\n",
    "}\n",
    "\n",
    "payload = {\n",
    "    'query': '파이썬',\n",
    "    'display': 100,\n",
    "    'sort': 'sim'\n",
    "}\n",
    "\n",
    "url = 'https://openapi.naver.com/v1/search/blog.json'\n",
    "\n",
    "res = requests.get(url, params=payload, headers=headers)\n",
    "items_data = res.json()['items']\n",
    "#print(items_data)\n",
    "\n",
    "items_list = list()\n",
    "item_list = []\n",
    "for item in items_data:\n",
    "#     print(item)\n",
    "    item_list.append(item['title'])\n",
    "    item_list.append(item['bloggername'])\n",
    "    item_list.append(item['description'])\n",
    "    item_list.append(item['bloggerlink'])\n",
    "    item_list.append(item['link'])\n",
    "\n",
    "    items_list.append(item_list)\n",
    "    item_list = []\n",
    "\n",
    "print(items_list)\n",
    "\n",
    "with open('data/nhnblog.txt','w',encoding=\"utf-8\")as file:\n",
    "    for items in items_list:\n",
    "        for item in items:\n",
    "            item = item + '\\n'\n",
    "            file.write(item)\n",
    "        file.write('-'*150+'\\n')"
   ]
  }
 ],
 "metadata": {
  "kernelspec": {
   "display_name": "Python 3 (ipykernel)",
   "language": "python",
   "name": "python3"
  },
  "language_info": {
   "codemirror_mode": {
    "name": "ipython",
    "version": 3
   },
   "file_extension": ".py",
   "mimetype": "text/x-python",
   "name": "python",
   "nbconvert_exporter": "python",
   "pygments_lexer": "ipython3",
   "version": "3.12.4"
  }
 },
 "nbformat": 4,
 "nbformat_minor": 5
}
