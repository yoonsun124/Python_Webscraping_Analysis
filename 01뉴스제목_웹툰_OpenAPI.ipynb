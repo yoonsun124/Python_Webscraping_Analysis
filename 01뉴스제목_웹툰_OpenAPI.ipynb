{
 "cells": [
  {
   "cell_type": "markdown",
   "id": "eb0bfa44",
   "metadata": {},
   "source": [
    "## 1. 뉴스제목 가져오기\n",
    "* user-agent 요청헤더를 반드시 설정해야 한다."
   ]
  },
  {
   "cell_type": "code",
   "execution_count": 1,
   "id": "f0d27781",
   "metadata": {
    "scrolled": true
   },
   "outputs": [
    {
     "name": "stdout",
     "output_type": "stream",
     "text": [
      "Name: requests\n",
      "Version: 2.32.2\n",
      "Summary: Python HTTP for Humans.\n",
      "Home-page: https://requests.readthedocs.io\n",
      "Author: Kenneth Reitz\n",
      "Author-email: me@kennethreitz.org\n",
      "License: Apache-2.0\n",
      "Location: C:\\Users\\r2com\\anaconda3\\Lib\\site-packages\n",
      "Requires: certifi, charset-normalizer, idna, urllib3\n",
      "Required-by: anaconda-catalogs, anaconda-client, anaconda-cloud-auth, anaconda-project, conda, conda-build, conda-repo-cli, conda_package_streaming, cookiecutter, datashader, intake, jupyterlab_server, panel, requests-file, requests-toolbelt, Sphinx, streamlit, tldextract\n"
     ]
    }
   ],
   "source": [
    "!pip show requests"
   ]
  },
  {
   "cell_type": "code",
   "execution_count": 2,
   "id": "f7798ea8",
   "metadata": {},
   "outputs": [
    {
     "name": "stdout",
     "output_type": "stream",
     "text": [
      "Name: beautifulsoup4\n",
      "Version: 4.12.3\n",
      "Summary: Screen-scraping library\n",
      "Home-page: \n",
      "Author: \n",
      "Author-email: Leonard Richardson <leonardr@segfault.org>\n",
      "License: MIT License\n",
      "Location: C:\\Users\\r2com\\anaconda3\\Lib\\site-packages\n",
      "Requires: soupsieve\n",
      "Required-by: conda-build, nbconvert\n"
     ]
    }
   ],
   "source": [
    "!pip show beautifulsoup4"
   ]
  },
  {
   "cell_type": "code",
   "execution_count": 5,
   "id": "bf80a429",
   "metadata": {},
   "outputs": [],
   "source": [
    "import requests\n",
    "import bs4\n",
    "from bs4 import BeautifulSoup"
   ]
  },
  {
   "cell_type": "code",
   "execution_count": 6,
   "id": "9788d6ac",
   "metadata": {},
   "outputs": [
    {
     "name": "stdout",
     "output_type": "stream",
     "text": [
      "request ver 2.32.2\n",
      "beautifulsoup 4.12.3\n"
     ]
    }
   ],
   "source": [
    "print(f'request ver {requests.__version__}' )\n",
    "print('beautifulsoup {}'.format(bs4.__version__))"
   ]
  },
  {
   "cell_type": "markdown",
   "id": "ccb91def-cde3-4aeb-b0e5-2e7233500333",
   "metadata": {},
   "source": [
    "### 1. 뉴스 제목 추출하기"
   ]
  },
  {
   "cell_type": "code",
   "execution_count": 44,
   "id": "94c12fd6",
   "metadata": {},
   "outputs": [
    {
     "name": "stdout",
     "output_type": "stream",
     "text": [
      "https://news.naver.com/section/105\n",
      "<class 'requests.models.Response'>\n",
      "200\n",
      "True\n",
      "news 제목 = \"파리올림픽 요트경기, 폰으로 찍었다?\"... 갤S24, 모바일 생중계 지원\n",
      "news 링크 = https://n.news.naver.com/mnews/article/008/0005072793\n",
      "news 제목 = 엔씨, 적자 간신히 면했다…2Q 영업익 88억(상보)\n",
      "news 링크 = https://n.news.naver.com/mnews/article/277/0005455213\n",
      "news 제목 = SK텔레콤, SIGIR 2024에서 정보검색 분야 AI 기술 우수 논문상 수상\n",
      "news 링크 = https://n.news.naver.com/mnews/article/015/0005018003\n",
      "news 제목 = “스마트폰 시장 3년 만에 성장세...삼성, 애플과 격차 벌릴 것”\n",
      "news 링크 = https://n.news.naver.com/mnews/article/366/0001009904\n",
      "news 제목 = 더존비즈온, 2분기 영업익 204억원…전년比 19% ↑\n",
      "news 링크 = https://n.news.naver.com/mnews/article/018/0005805289\n",
      "news 제목 = 이공계 대학원생에 매달 80~110만원 지급…연구비 관리제도 개선\n",
      "news 링크 = https://n.news.naver.com/mnews/article/001/0014855246\n",
      "news 제목 = SK C&C, 베트남 ICT기업과 ‘디지털 ESG’ 맞손\n",
      "news 링크 = https://n.news.naver.com/mnews/article/016/0002345461\n",
      "news 제목 = 카카오헬스케어, 글로벌 '연구협력 네트워크' 17개 병원으로 확대\n",
      "news 링크 = https://n.news.naver.com/mnews/article/008/0005072920\n",
      "news 제목 = 삼성전자, '루비콘 프로젝트' 띄운다…MS·구글·팔란티어 3파전\n",
      "news 링크 = https://n.news.naver.com/mnews/article/030/0003229219\n",
      "news 제목 = 최재원 SK 수석부회장 장남, E&S 북미법인 입사\n",
      "news 링크 = https://n.news.naver.com/mnews/article/092/0002340936\n",
      "news 제목 = 여름 휴가철 해외여행 통신비 아끼려면… “현지 유심, 3000원이면 1GB 데이터 하루종일”\n",
      "news 링크 = https://n.news.naver.com/mnews/article/366/0001009943\n",
      "news 제목 = 이공계 대학원생에 최대 110만원 지급\n",
      "news 링크 = https://n.news.naver.com/mnews/article/014/0005223425\n",
      "news 제목 = [1분건강] 폭염 기승에 ‘온열질환 주의보’\n",
      "news 링크 = https://n.news.naver.com/mnews/article/092/0002340934\n",
      "news 제목 = \"적자는 면했다\"...엔씨, 2분기 영업이익 88억원\n",
      "news 링크 = https://n.news.naver.com/mnews/article/008/0005073094\n",
      "news 제목 = 5년만의 40도 돌파…'사상 최악' 2018년 기록 넘어설까?\n",
      "news 링크 = https://n.news.naver.com/mnews/article/584/0000028180\n",
      "news 제목 = 롯데리아, 8일부터 버거 20종 포함 68 품목 가격 인상\n",
      "news 링크 = https://n.news.naver.com/mnews/article/092/0002340933\n",
      "news 제목 = 엔씨, 적자 간신히 면했다…2Q 영업익 88억(상보)\n",
      "news 링크 = https://n.news.naver.com/mnews/article/277/0005455213\n",
      "news 제목 = 코스피·코스닥 줄이어 서킷브레이커 발동\n",
      "news 링크 = https://n.news.naver.com/mnews/article/092/0002340932\n",
      "news 제목 = 엔씨소프트, 적자 면했다… 2분기 영업이익 88억원\n",
      "news 링크 = https://n.news.naver.com/mnews/article/138/0002179213\n",
      "news 제목 = 韓, 반도체 대중 수출 늘자… 中 “美 수출 제재 한계 드러나”\n",
      "news 링크 = https://n.news.naver.com/mnews/article/366/0001009937\n",
      "news 제목 = ‘아재 입맛’인 줄 알았는데…믹스커피 MZ 업고 뜨나\n",
      "news 링크 = https://n.news.naver.com/mnews/article/092/0002340930\n",
      "news 제목 = 네이버 '쇼핑 검색광고' 타고 온 '파워적립' 8년 만에 폐지\n",
      "news 링크 = https://n.news.naver.com/mnews/article/018/0005805500\n",
      "news 제목 = 한국금거래소디지털에셋 \"티메프 미정산 이슈, 회사 유동성엔 영향 없어\"\n",
      "news 링크 = https://n.news.naver.com/mnews/article/003/0012710560\n",
      "news 제목 = 한국 양궁 금메달 5개 '싹쓸이'...비결은?\n",
      "news 링크 = https://n.news.naver.com/mnews/article/092/0002340929\n",
      "news 제목 = [단독] 찜통더위 부른 북태평양 고기압…한중일 손잡고 예측 정확성 높인다\n",
      "news 링크 = https://n.news.naver.com/mnews/article/366/0001009933\n",
      "news 제목 = 곤두박질치는 비트코인…'트럼프 약발' 보단 'R의 공포'\n",
      "news 링크 = https://n.news.naver.com/mnews/article/018/0005805497\n",
      "news 제목 = 서브컬처 도전한다...엔씨, 빅게임스튜디오 지분 투자\n",
      "news 링크 = https://n.news.naver.com/mnews/article/029/0002892829\n",
      "news 제목 = 이통3사 2분기 합산 영업익 예상 1.3조…전환지원금 타격 적었다\n",
      "news 링크 = https://n.news.naver.com/mnews/article/003/0012710549\n",
      "news 제목 = 배터리 화재 키우는 '열폭주' 억제 방법 찾았다\n",
      "news 링크 = https://n.news.naver.com/mnews/article/584/0000028179\n",
      "news 제목 = 티빙, 토종 OTT 1위 굳히기.. 쿠플, EPL로 만회 나선다\n",
      "news 링크 = https://n.news.naver.com/mnews/article/014/0005223409\n",
      "news 제목 = M7 주가폭락에 실망한 투자자…\"인내심 한계 달했다\"\n",
      "news 링크 = https://n.news.naver.com/mnews/article/092/0002340926\n",
      "news 제목 = 유라클, 수요예측 경쟁률 1065.8대 1…공모가 2만1000원 확정\n",
      "news 링크 = https://n.news.naver.com/mnews/article/138/0002179208\n",
      "news 제목 = \"뭘로 결제했더라\"…티메프 환불, 페이·카드 희비 엇갈린다\n",
      "news 링크 = https://n.news.naver.com/mnews/article/018/0005805482\n",
      "news 제목 = 엔씨, 빅게임스튜디오 370억 규모 지분·판권 투자\n",
      "news 링크 = https://n.news.naver.com/mnews/article/003/0012710504\n",
      "news 제목 = 한국금거래소 “티메프 미정산 이슈, 유동성 영향 없다…매출 영향 미미”\n",
      "news 링크 = https://n.news.naver.com/mnews/article/138/0002179207\n",
      "news 제목 = 아이폰, 이제야 한국 대우하나…신작 '1차 출시국' 포함된다\n",
      "news 링크 = https://n.news.naver.com/mnews/article/015/0005018184\n",
      "news 제목 = 혼돈의 방송통신위원회와 ‘애국자가 없는 세상’\n",
      "news 링크 = https://n.news.naver.com/mnews/article/092/0002340921\n",
      "news 제목 = 청라 화재서 촉발된 '中 배터리 포비아'…韓 3사 대체 가능성은 [소부장박대리]\n",
      "news 링크 = https://n.news.naver.com/mnews/article/138/0002179205\n",
      "news 제목 = 말라리아·일본뇌염 모기 2배 넘게 급증…가장 확실한 예방법은\n",
      "news 링크 = https://n.news.naver.com/mnews/article/421/0007710891\n",
      "news 제목 = “편의점 알바보다 열악한 처우” 이공계 석박사…연구생활장려금 지급, 숨통 트일까\n",
      "news 링크 = https://n.news.naver.com/mnews/article/016/0002345560\n",
      "news 제목 = 전기차 배터리 열폭주 막을 방법 찾았다\n",
      "news 링크 = https://n.news.naver.com/mnews/article/366/0001009912\n",
      "news 제목 = \"美 상무부, 자율주행차 중국SW 사용 금지 규정 이달 발표 예정\"\n",
      "news 링크 = https://n.news.naver.com/mnews/article/029/0002892817\n",
      "news 제목 = 이공계 대학원생에 매달 80~110만원 지급…연구비 관리제도 개선\n",
      "news 링크 = https://n.news.naver.com/mnews/article/001/0014855246\n",
      "news 제목 = 全 종목 '금메달' 석권 양궁…정의선 회장 40년 함께했다\n",
      "news 링크 = https://n.news.naver.com/mnews/article/092/0002340919\n"
     ]
    }
   ],
   "source": [
    "# IT/과학 뉴스\n",
    "req_param = {\n",
    "    'sid' : 105\n",
    "}\n",
    "url = 'https://news.naver.com/section/{sid}'.format(**req_param)\n",
    "print(url)\n",
    "# 요청 헤더 설정 : 브라우저 정보\n",
    "req_header = {\n",
    "    'user-agent': 'Mozilla/5.0 (Windows NT 10.0; Win64; x64) AppleWebKit/537.36 (KHTML, like Gecko) Chrome/104.0.0.0 Safari/537.36'\n",
    "}\n",
    "#requests 모듈을 사용해서 http 통신\n",
    "res = requests.get(url, headers=req_header)\n",
    "print(type(res))\n",
    "print(res.status_code)\n",
    "print(res.ok)\n",
    "if res.ok:\n",
    "    # 소스보기 텍스트 가져오기\n",
    "    html = res.text\n",
    "    #parsing을 하기 위해 BeautifulSoup 객체 생성\n",
    "    soup = BeautifulSoup(html, \"html.parser\")\n",
    "    #print(type(soup))\n",
    "    '''\n",
    "        <div class='sa_text'>\n",
    "            <a href='https://n.news.naver.com/mnews/article/092/0002340904'>\n",
    "             <strong class=\"sa_text_strong\">엔씨소프트, 2분기 영업익 88억...실적 개선 박차</strong>\n",
    "    '''    \n",
    "    #print(len(soup.select(\"div.sa_text a[href*='https://n.news.naver.com/mnews/article']\")))\n",
    "    #print(len(soup.select(\"div.sa_text a.sa_text_title\")))\n",
    "    atag_list = soup.select(\"div.sa_text a.sa_text_title\")\n",
    "    #print(type(atag_list))\n",
    "    for atag in atag_list:\n",
    "        # text속성: tag 사이의 content, 공백 제거\n",
    "        title = atag.text.strip()\n",
    "        # href 속성의 값을 추출하기\n",
    "        url = atag['href']\n",
    "        print(f'news 제목 = {title}')\n",
    "        print(f'news 링크 = {url}')\n",
    "else:\n",
    "    print(f'Error 발생 {res.status_code}')"
   ]
  },
  {
   "cell_type": "markdown",
   "id": "45640860-a449-4285-90d7-5f300292b461",
   "metadata": {},
   "source": [
    "### 1.1 뉴스제목 추출하는 함수 선언하기"
   ]
  },
  {
   "cell_type": "code",
   "execution_count": 45,
   "id": "9f2e4ef8",
   "metadata": {},
   "outputs": [],
   "source": [
    "import requests\n",
    "from bs4 import BeautifulSoup\n",
    "\n",
    "def print_news(sid, section):    \n",
    "    # 요청 Parameter\n",
    "    req_param = {\n",
    "    'sid': sid\n",
    "    }\n",
    "    url = 'https://news.naver.com/section/{sid}'.format(**req_param)\n",
    "    \n",
    "    print(f'======> {url} {section} 뉴스 <======')\n",
    "    \n",
    "    # 요청 헤더 설정 : 브라우저 정보\n",
    "    req_header = {\n",
    "        'user-agent': 'Mozilla/5.0 (Windows NT 10.0; Win64; x64) AppleWebKit/537.36 (KHTML, like Gecko) Chrome/104.0.0.0 Safari/537.36'\n",
    "    }\n",
    "    \n",
    "    #requests 모듈을 사용해서 http 통신\n",
    "    res = requests.get(url, headers=req_header)\n",
    "    print(type(res))\n",
    "    print(res.status_code)\n",
    "    print(res.ok)\n",
    "    if res.ok:\n",
    "        # 소스보기 텍스트 가져오기\n",
    "        html = res.text\n",
    "        #parsing을 하기 위해 BeautifulSoup 객체 생성\n",
    "        soup = BeautifulSoup(html, \"html.parser\")        \n",
    "        atag_list = soup.select(\"div.sa_text a.sa_text_title\")\n",
    "        #print(type(atag_list))\n",
    "        for atag in atag_list:\n",
    "            # text속성: tag 사이의 content, 공백 제거\n",
    "            title = atag.text.strip()\n",
    "            # href 속성의 값을 추출하기\n",
    "            url = atag['href']\n",
    "            print(f'news 제목 = {title}')\n",
    "            print(f'news 링크 = {url}')\n",
    "    else:\n",
    "        print(f'Error 발생 {res.status_code}')"
   ]
  },
  {
   "cell_type": "code",
   "execution_count": 46,
   "id": "858952c6",
   "metadata": {},
   "outputs": [
    {
     "name": "stdout",
     "output_type": "stream",
     "text": [
      "======> https://news.naver.com/section/104 세계 뉴스 <======\n",
      "<class 'requests.models.Response'>\n",
      "200\n",
      "True\n",
      "news 제목 = 해리스, 부통령 후보 3인방 최종 면접…‘오바마 측근’ 셔피로 유력\n",
      "news 링크 = https://n.news.naver.com/mnews/article/016/0002345212\n",
      "news 제목 = \"이르면 5일\" 이란 '하니예 암살' 보복 초읽기… 중동 전운 최고조\n",
      "news 링크 = https://n.news.naver.com/mnews/article/469/0000816007\n",
      "news 제목 = EU도 베네수 마두로 3선 당선에 \"인정 못해\"\n",
      "news 링크 = https://n.news.naver.com/mnews/article/088/0000896195\n",
      "news 제목 = 뇌에 칩 이식해 인터페이스…머스크 \"두 번째 사례도 성공적\"\n",
      "news 링크 = https://n.news.naver.com/mnews/article/437/0000404727\n",
      "news 제목 = \"네타냐후, 11월 美대선 이전에 사우디와 관계 정상화 추진 안 할 듯\"\n",
      "news 링크 = https://n.news.naver.com/mnews/article/003/0012709390\n",
      "news 제목 = 바이든, 백악관 상황실 안보회의 소집‥\"중동 정세 논의\"\n",
      "news 링크 = https://n.news.naver.com/mnews/article/214/0001365882\n",
      "news 제목 = 대권 도전 본격화하는 해리스... '오바마 참모' 기용, 트럼프와 '기싸움' 가열\n",
      "news 링크 = https://n.news.naver.com/mnews/article/469/0000816009\n",
      "news 제목 = 트럼프 \"미, 에너지 강국 만들 것…2주내 中차량에 고율관세\"\n",
      "news 링크 = https://n.news.naver.com/mnews/article/374/0000395977\n",
      "news 제목 = 이란 \"전쟁 불사\" vs 이스라엘 \"선제 타격\"…48시간 내 공격 가능\n",
      "news 링크 = https://n.news.naver.com/mnews/article/088/0000896198\n",
      "news 제목 = 해리스 유세 인파에 심기불편 트럼프…\"연예인 불러서 모았다\"\n",
      "news 링크 = https://n.news.naver.com/mnews/article/001/0014855525\n",
      "news 제목 = 이란 대통령 \"이스라엘, 큰 실수 저질렀다…책임 안 물을 수 없어\"\n",
      "news 링크 = https://n.news.naver.com/mnews/article/421/0007711084\n",
      "news 제목 = 이란은 보복 예고, 이스라엘은 '이미 전쟁 중'... 중동 일촉즉발\n",
      "news 링크 = https://n.news.naver.com/mnews/article/014/0005223423\n",
      "news 제목 = \"역시 버핏\" 주식 대거 처분한 뒤 글로벌 주식 투매 발생\n",
      "news 링크 = https://n.news.naver.com/mnews/article/421/0007711041\n",
      "news 제목 = 캄보디아, 메콩강 해안 180km 운하 기공식…동남아 지정학 파장\n",
      "news 링크 = https://n.news.naver.com/mnews/article/003/0012710590\n",
      "news 제목 = 이스라엘군, 레바논 남부 헤즈볼라 시설 타격...먼저 움직이나\n",
      "news 링크 = https://n.news.naver.com/mnews/article/021/0002652568\n",
      "news 제목 = 확전 우려에 만류·자국민 보호 나선 주변국…이란은 ‘보복’ 고수\n",
      "news 링크 = https://n.news.naver.com/mnews/article/032/0003312997\n",
      "news 제목 = “모두가 던졌다” 초토화된 日 증시…전망은 더 암울 [디브리핑]\n",
      "news 링크 = https://n.news.naver.com/mnews/article/016/0002345595\n",
      "news 제목 = 해리스 러닝메이트 발표 임박…트럼프·밴스 \"누구든 상관없다\"[2024美대선]\n",
      "news 링크 = https://n.news.naver.com/mnews/article/003/0012710548\n",
      "news 제목 = [속보] 日증시 12.4% ‘대폭락’…하락폭 ‘블랙먼데이’보다 컸다\n",
      "news 링크 = https://n.news.naver.com/mnews/article/016/0002345586\n",
      "news 제목 = \"이란, 이스라엘 군시설 외 지중해 가스전 등도 표적 공격할 듯\"(종합)\n",
      "news 링크 = https://n.news.naver.com/mnews/article/001/0014855360\n",
      "news 제목 = 트럼프 “당선 시 2주 내 중국차에 고율 관세 조치”\n",
      "news 링크 = https://n.news.naver.com/mnews/article/081/0003470060\n",
      "news 제목 = 해리스 러닝메이트 발표 임박…유력후보는 오바마 닮은 사람\n",
      "news 링크 = https://n.news.naver.com/mnews/article/018/0005805480\n",
      "news 제목 = '폭풍전야' 중동 정세…'공격임박' 이란, 美요청에도 대화거부(종합)\n",
      "news 링크 = https://n.news.naver.com/mnews/article/421/0007710920\n",
      "news 제목 = 이란 보복 초읽기 \"이르면 5일\"…바이든, 상황실 안보회의 소집\n",
      "news 링크 = https://n.news.naver.com/mnews/article/029/0002892823\n",
      "news 제목 = 이스라엘, 이란에 ‘선제 타격’까지 고려…공격 임박 증거 발견 시 [핫이슈]\n",
      "news 링크 = https://n.news.naver.com/mnews/article/081/0003470051\n",
      "news 제목 = 친중 캄보디아, '中군함 통로' 논란 운하 착공…\"기필코 완성\"\n",
      "news 링크 = https://n.news.naver.com/mnews/article/001/0014855261\n",
      "news 제목 = 주한 중국대사 인선 장기화하나…유력 후보군 에티오피아 대사로\n",
      "news 링크 = https://n.news.naver.com/mnews/article/421/0007710880\n",
      "news 제목 = '잃어버린 30년' 되찾는가 했더니…日증시 사상 최대 폭락\n",
      "news 링크 = https://n.news.naver.com/mnews/article/421/0007710874\n",
      "news 제목 = '패닉' 엔화, 1달러=142엔대 진입…\"매수세 지속 유입\"\n",
      "news 링크 = https://n.news.naver.com/mnews/article/018/0005805456\n",
      "news 제목 = 닛케이 10% 폭락…\"엔저 호재 끝. 일본주식 사지 말라\"-UBS\n",
      "news 링크 = https://n.news.naver.com/mnews/article/008/0005073038\n",
      "news 제목 = “이란 24∼48시간 내 이스라엘 공격”…미, 국가안보회의 소집\n",
      "news 링크 = https://n.news.naver.com/mnews/article/028/0002701327\n",
      "news 제목 = 1년 반 만에 주가 4배 뛰었다… 롤스로이스 질주의 끝은\n",
      "news 링크 = https://n.news.naver.com/mnews/article/366/0001009901\n",
      "news 제목 = [영상] \"이란, 이르면 5일 보복\"…'섬뜩한' 이스라엘 공격 시나리오엔\n",
      "news 링크 = https://n.news.naver.com/mnews/article/001/0014855159\n",
      "news 제목 = 미국 경제 침체 우려‥아시아 증시 '블랙먼데이'\n",
      "news 링크 = https://n.news.naver.com/mnews/article/214/0001365892\n",
      "news 제목 = 中, 소비 살리려 정책 보따리 풀지만… 부동산 해결 전엔 ‘백약이 무효’\n",
      "news 링크 = https://n.news.naver.com/mnews/article/366/0001009898\n",
      "news 제목 = “이란 보복 임박...이르면 5일”...백악관 안보회의 소집\n",
      "news 링크 = https://n.news.naver.com/mnews/article/366/0001009895\n",
      "news 제목 = 이란 vs 미국 정면 충돌?…“이란, 미군도 때릴 가능성 有”[핫이슈]\n",
      "news 링크 = https://n.news.naver.com/mnews/article/081/0003470016\n",
      "news 제목 = 해리스·트럼프 접전...7개 경합주 지지율 '초박빙'\n",
      "news 링크 = https://n.news.naver.com/mnews/article/052/0002070294\n",
      "news 제목 = 해리스, 트럼프와 박빙...러닝메이트 확정으로 상승세 이어갈까?\n",
      "news 링크 = https://n.news.naver.com/mnews/article/014/0005223315\n",
      "news 제목 = 챗GPT로 베낀 숙제 잡아내는 新기술 개발하고도 비공개?\n",
      "news 링크 = https://n.news.naver.com/mnews/article/025/0003377893\n",
      "news 제목 = 불안한 중동 정세에…바이든, 상황실서 안보회의 소집\n",
      "news 링크 = https://n.news.naver.com/mnews/article/018/0005805404\n",
      "news 제목 = \"이스라엘, 이란 선제공격 검토\"…이란 \"전쟁나도 상관없어\"\n",
      "news 링크 = https://n.news.naver.com/mnews/article/123/0002339719\n",
      "news 제목 = 우크라이나 마침내 F-16 배치…젤렌스키 \"추가 지원\"\n",
      "news 링크 = https://n.news.naver.com/mnews/article/018/0005805388\n",
      "news 제목 = 러시아 \"핵대응 고려\"…미국 \"핵무기 더 배치할 수도\"\n",
      "news 링크 = https://n.news.naver.com/mnews/article/422/0000674729\n"
     ]
    }
   ],
   "source": [
    "section_dict = {100:'정치',101:'경제',102:'사회',103:'생활/문화',104:'세계',105:'IT/과학'}\n",
    "print_news(104,section_dict[104])"
   ]
  },
  {
   "cell_type": "markdown",
   "id": "323196dc",
   "metadata": {},
   "source": [
    "### 2. Image 다운로드\n",
    "* referer 요청 헤더를 반드시 설정해야 한다."
   ]
  },
  {
   "cell_type": "code",
   "execution_count": 59,
   "id": "c72d6cb1",
   "metadata": {},
   "outputs": [
    {
     "name": "stdout",
     "output_type": "stream",
     "text": [
      "writing to 20220804112251_d97bd1e1b38f0cd022e4e3639d2926b3_IMAG01_1.jpg (299,319 butes)\n",
      "writing to 20220804112251_d97bd1e1b38f0cd022e4e3639d2926b3_IMAG01_2.jpg (163,333 butes)\n",
      "writing to 20220804112251_d97bd1e1b38f0cd022e4e3639d2926b3_IMAG01_3.jpg (182,530 butes)\n"
     ]
    }
   ],
   "source": [
    "import requests\n",
    "import os\n",
    "\n",
    "req_header = {\n",
    "    'referer':'https://comic.naver.com/webtoon/detail?titleId=798173&no=5&amp;weekday=thu'\n",
    "}\n",
    "# jpg filename list\n",
    "img_urls = [\n",
    "    'https://image-comic.pstatic.net/webtoon/798173/5/20220804112251_d97bd1e1b38f0cd022e4e3639d2926b3_IMAG01_1.jpg',\n",
    "    'https://image-comic.pstatic.net/webtoon/798173/5/20220804112251_d97bd1e1b38f0cd022e4e3639d2926b3_IMAG01_2.jpg',\n",
    "    'https://image-comic.pstatic.net/webtoon/798173/5/20220804112251_d97bd1e1b38f0cd022e4e3639d2926b3_IMAG01_3.jpg'\n",
    "]\n",
    "for img_url in img_urls:\n",
    "    res = requests.get(img_url, headers=req_header)\n",
    "    if res.ok:\n",
    "        # binary 데이터 추출\n",
    "        img_data = res.content\n",
    "        # url에서 file name을 가져오기\n",
    "        file_name = os.path.basename(img_url)\n",
    "        with open(file_name, 'wb') as file:\n",
    "            print(f'writing to {file_name} ({len(img_data):,} butes)')\n",
    "            file.write(img_data)\n",
    "    else:\n",
    "        print(f'Error 발생 {res.status_code}')"
   ]
  },
  {
   "cell_type": "markdown",
   "id": "e8b00a04",
   "metadata": {},
   "source": [
    "* 현재 요청된 페이지(특정 회차)의 image 모두 다운로드 해보기"
   ]
  },
  {
   "cell_type": "code",
   "execution_count": 67,
   "id": "b30f7bf5",
   "metadata": {},
   "outputs": [
    {
     "name": "stdout",
     "output_type": "stream",
     "text": [
      "102\n",
      "18\n",
      "https://image-comic.pstatic.net/webtoon/817945/37/20240226100634_548bfa8f14799d53d45b5f12df1b289e_IMAG01_1.jpg\n",
      "https://image-comic.pstatic.net/webtoon/817945/37/20240226100634_548bfa8f14799d53d45b5f12df1b289e_IMAG01_2.jpg\n",
      "https://image-comic.pstatic.net/webtoon/817945/37/20240226100634_548bfa8f14799d53d45b5f12df1b289e_IMAG01_3.jpg\n",
      "https://image-comic.pstatic.net/webtoon/817945/37/20240226100634_548bfa8f14799d53d45b5f12df1b289e_IMAG01_4.jpg\n",
      "https://image-comic.pstatic.net/webtoon/817945/37/20240226100634_548bfa8f14799d53d45b5f12df1b289e_IMAG01_5.jpg\n",
      "https://image-comic.pstatic.net/webtoon/817945/37/20240226100634_548bfa8f14799d53d45b5f12df1b289e_IMAG01_6.jpg\n",
      "https://image-comic.pstatic.net/webtoon/817945/37/20240226100634_548bfa8f14799d53d45b5f12df1b289e_IMAG01_7.jpg\n",
      "https://image-comic.pstatic.net/webtoon/817945/37/20240226100634_548bfa8f14799d53d45b5f12df1b289e_IMAG01_8.jpg\n",
      "https://image-comic.pstatic.net/webtoon/817945/37/20240226100634_548bfa8f14799d53d45b5f12df1b289e_IMAG01_9.jpg\n",
      "https://image-comic.pstatic.net/webtoon/817945/37/20240226100634_548bfa8f14799d53d45b5f12df1b289e_IMAG01_10.jpg\n",
      "https://image-comic.pstatic.net/webtoon/817945/37/20240226100634_548bfa8f14799d53d45b5f12df1b289e_IMAG01_11.jpg\n",
      "https://image-comic.pstatic.net/webtoon/817945/37/20240226100634_548bfa8f14799d53d45b5f12df1b289e_IMAG01_12.jpg\n",
      "https://image-comic.pstatic.net/webtoon/817945/37/20240226100634_548bfa8f14799d53d45b5f12df1b289e_IMAG01_13.jpg\n",
      "https://image-comic.pstatic.net/webtoon/817945/37/20240226100634_548bfa8f14799d53d45b5f12df1b289e_IMAG01_14.jpg\n",
      "https://image-comic.pstatic.net/webtoon/817945/37/20240226100634_548bfa8f14799d53d45b5f12df1b289e_IMAG01_15.jpg\n",
      "https://image-comic.pstatic.net/webtoon/817945/37/20240226100634_548bfa8f14799d53d45b5f12df1b289e_IMAG01_16.jpg\n",
      "https://image-comic.pstatic.net/webtoon/817945/37/20240226100634_548bfa8f14799d53d45b5f12df1b289e_IMAG01_17.jpg\n",
      "https://image-comic.pstatic.net/webtoon/817945/37/20240226100634_548bfa8f14799d53d45b5f12df1b289e_IMAG01_18.jpg\n"
     ]
    }
   ],
   "source": [
    "import requests\n",
    "import os\n",
    "\n",
    "webtoon_url = 'https://comic.naver.com/webtoon/detail?titleId=817945&no=37&week=mon'\n",
    "req_header = {\n",
    "    'referer': webtoon_url\n",
    "}\n",
    "# jpg 이미지 파일명을 먼저 알아내기\n",
    "res = requests.get(webtoon_url)\n",
    "if res.ok: #200\n",
    "    # xx.jpg 파일명 목록 가져오기\n",
    "    soup = BeautifulSoup(res.text, 'html.parser')\n",
    "    print(len(soup.select(\"img[src$='.jpg']\")))\n",
    "    print(len(soup.select(\"img[src*='IMAG01']\")))\n",
    "    img_tag_list = soup.select(\"img[src*='IMAG01']\")\n",
    "\n",
    "    # 이미지 파일명을 저장할 리스트 선언\n",
    "    img_url_list = []\n",
    "    for img_tag in img_tag_list:\n",
    "        #print(img_tag['src'])\n",
    "        # 이미지 태그의 src 속성의 값을 추출해서 list에 추가하기\n",
    "        img_url_list.append(img_tag['src'])\n",
    "    print(\n",
    "else:\n",
    "    print(res.status_code)"
   ]
  },
  {
   "cell_type": "markdown",
   "id": "2ac9f5f9",
   "metadata": {},
   "source": [
    "### 3. 파일 업로드 하기\n",
    "* http://httpbin.org/post 업로드 요청을 할 수 있는 url"
   ]
  },
  {
   "cell_type": "code",
   "execution_count": 17,
   "id": "04da4790",
   "metadata": {},
   "outputs": [],
   "source": []
  },
  {
   "cell_type": "markdown",
   "id": "7ad65f12",
   "metadata": {},
   "source": [
    "### 4. 단축 URL 생성하는 Open API 사용하기\n",
    "* urllib 사용"
   ]
  },
  {
   "cell_type": "code",
   "execution_count": null,
   "id": "abbb0ebf",
   "metadata": {},
   "outputs": [],
   "source": [
    "import os\n",
    "import sys\n",
    "import urllib.request\n",
    "\n",
    "client_id = \"V\" # 개발자센터에서 발급받은 Client ID 값\n",
    "client_secret = \"y_\" # 개발자센터에서 발급받은 Client Secret 값\n",
    "encText = urllib.parse.quote(\"https://drive.google.com/drive/u/0/folders/1V_DK7Px5w_niEKLlWhDr_GPgIYHG3Du-\")\n",
    "data = \"url=\" + encText\n",
    "url = \"https://openapi.naver.com/v1/util/shorturl\"\n",
    "\n",
    "request = urllib.request.Request(url)\n",
    "request.add_header(\"X-Naver-Client-Id\",client_id)\n",
    "request.add_header(\"X-Naver-Client-Secret\",client_secret)\n",
    "\n",
    "response = urllib.request.urlopen(request, data=data.encode(\"utf-8\"))\n",
    "rescode = response.getcode()\n",
    "if(rescode==200):\n",
    "    response_body = response.read()\n",
    "    print(response_body.decode('utf-8'))\n",
    "else:\n",
    "    print(\"Error Code:\" + rescode)\n"
   ]
  },
  {
   "cell_type": "markdown",
   "id": "b7d984a6",
   "metadata": {},
   "source": [
    "* requests를 사용하는 코드로 변경하기\n",
    "* [requests docs](https://requests.readthedocs.io/en/latest/user/quickstart/)"
   ]
  },
  {
   "cell_type": "code",
   "execution_count": null,
   "id": "727b427b",
   "metadata": {
    "scrolled": true
   },
   "outputs": [],
   "source": [
    "import requests\n",
    "\n",
    "client_id = \"V\" # 개발자센터에서 발급받은 Client ID 값\n",
    "client_secret = \"y_\" # 개발자센터에서 발급받은 Client Secret 값\n",
    "\n",
    "origin_url = \"https://drive.google.com/drive/u/0/folders/1V_DK7Px5w_niEKLlWhDr_GPgIYHG3Du-\"\n",
    "\n"
   ]
  },
  {
   "cell_type": "markdown",
   "id": "d5e1179a",
   "metadata": {},
   "source": [
    "### 5. 블로그 검색하기"
   ]
  },
  {
   "cell_type": "code",
   "execution_count": null,
   "id": "877d0c7f",
   "metadata": {},
   "outputs": [],
   "source": [
    "import requests\n",
    "import pprint\n",
    "\n",
    "headers = {\n",
    "    'X-Naver-Client-Id': 'V',\n",
    "    'X-Naver-Client-Secret': 'y_',\n",
    "}\n",
    "\n",
    "payload = {\n",
    "    'query': '파이썬',\n",
    "    'display': 100,\n",
    "    'sort': 'sim'\n",
    "}\n",
    "\n",
    "url = 'https://openapi.naver.com/v1/search/blog.json'\n",
    "\n",
    "res = requests.get(url, params=payload, headers=headers)\n",
    "items_data = res.json()['items']\n",
    "#print(items_data)\n",
    "\n",
    "items_list = list()\n",
    "item_list = []\n",
    "for item in items_data:\n",
    "#     print(item)\n",
    "    item_list.append(item['title'])\n",
    "    item_list.append(item['bloggername'])\n",
    "    item_list.append(item['description'])\n",
    "    item_list.append(item['bloggerlink'])\n",
    "    item_list.append(item['link'])\n",
    "\n",
    "    items_list.append(item_list)\n",
    "    item_list = []\n",
    "\n",
    "print(items_list)\n",
    "\n",
    "with open('data/nhnblog.txt','w',encoding=\"utf-8\")as file:\n",
    "    for items in items_list:\n",
    "        for item in items:\n",
    "            item = item + '\\n'\n",
    "            file.write(item)\n",
    "        file.write('-'*150+'\\n')"
   ]
  }
 ],
 "metadata": {
  "kernelspec": {
   "display_name": "Python 3 (ipykernel)",
   "language": "python",
   "name": "python3"
  },
  "language_info": {
   "codemirror_mode": {
    "name": "ipython",
    "version": 3
   },
   "file_extension": ".py",
   "mimetype": "text/x-python",
   "name": "python",
   "nbconvert_exporter": "python",
   "pygments_lexer": "ipython3",
   "version": "3.12.4"
  }
 },
 "nbformat": 4,
 "nbformat_minor": 5
}
